{
 "cells": [
  {
   "cell_type": "code",
   "execution_count": 127,
   "id": "9ae5dd75-bd86-47d6-abfc-e92aebc2b98c",
   "metadata": {},
   "outputs": [],
   "source": [
    "#Контрольная работа \"SparkSQL\"\n",
    "#выполнялась в jn на образе jupiter/pyspark-notebook \n",
    "\n",
    "from pyspark.sql import SparkSession\n",
    "from pyspark.sql import functions as f\n",
    "from pyspark.sql import Window as w\n",
    "\n",
    "spark = SparkSession.builder.master('local').getOrCreate()\n",
    "sc = spark.sparkContext\n",
    "\n",
    "df = (spark.read.option('header', True).option('sep',',').option('inferSchema', True).csv('owid-covid-data.csv'))"
   ]
  },
  {
   "cell_type": "code",
   "execution_count": 123,
   "id": "cf7ea85f-c71f-4959-b7dd-655ecc74f23f",
   "metadata": {},
   "outputs": [
    {
     "name": "stdout",
     "output_type": "stream",
     "text": [
      "+--------+-------------+-------+\n",
      "|iso_code|     location|percent|\n",
      "+--------+-------------+-------+\n",
      "|     AND|      Andorra|  15.54|\n",
      "|     MNE|   Montenegro|  14.52|\n",
      "|     CZE|      Czechia|  14.31|\n",
      "|     SMR|   San Marino|  13.94|\n",
      "|     SVN|     Slovenia|  10.37|\n",
      "|     LUX|   Luxembourg|   9.85|\n",
      "|     ISR|       Israel|   9.63|\n",
      "|     USA|United States|   9.20|\n",
      "|     SRB|       Serbia|   8.83|\n",
      "|     BHR|      Bahrain|   8.49|\n",
      "|     PAN|       Panama|   8.23|\n",
      "|     PRT|     Portugal|   8.06|\n",
      "|     EST|      Estonia|   8.02|\n",
      "|     SWE|       Sweden|   7.97|\n",
      "|     LTU|    Lithuania|   7.94|\n",
      "+--------+-------------+-------+\n",
      "only showing top 15 rows\n",
      "\n"
     ]
    }
   ],
   "source": [
    "#Задание 1\n",
    "\n",
    "df.select(df.iso_code, 'location', f.format_number(df.total_cases_per_million/10000.0, 2)\n",
    "          .alias('percent')).where(df.date == '2021-03-31').sort(df.total_cases_per_million.desc()).show(15)"
   ]
  },
  {
   "cell_type": "code",
   "execution_count": 151,
   "id": "614db5e4-92cb-44c8-bdd3-1237e1a19f54",
   "metadata": {},
   "outputs": [
    {
     "name": "stdout",
     "output_type": "stream",
     "text": [
      "+-------------+--------+------------------------+\n",
      "|     location|iso_code|max_of_new_cases_per_day|\n",
      "+-------------+--------+------------------------+\n",
      "|       Brazil|     BRA|                100158.0|\n",
      "|United States|     USA|                 77321.0|\n",
      "|        India|     IND|                 72330.0|\n",
      "|       France|     FRA|                 59054.0|\n",
      "|       Turkey|     TUR|                 39302.0|\n",
      "|       Poland|     POL|                 35145.0|\n",
      "|      Germany|     DEU|                 25014.0|\n",
      "|        Italy|     ITA|                 24076.0|\n",
      "|         Peru|     PER|                 19206.0|\n",
      "|      Ukraine|     UKR|                 18226.0|\n",
      "+-------------+--------+------------------------+\n",
      "only showing top 10 rows\n",
      "\n"
     ]
    }
   ],
   "source": [
    "#Задание 2\n",
    "\n",
    "df_new_cases = df.where((df.date <= '2021-03-31') & (df.date >= '2021-03-25') & (f.length(df.iso_code)==3)).groupBy('location','iso_code').max('new_cases')\n",
    "df_new_cases = df_new_cases.withColumnRenamed('max(new_cases)', 'max_of_new_cases_per_day')\n",
    "df_new_cases.sort(df_new_cases.max_of_new_cases_per_day.desc()).show(10)"
   ]
  },
  {
   "cell_type": "code",
   "execution_count": 152,
   "id": "4cc7b157-3c37-4264-a98a-e8539b07cd0b",
   "metadata": {},
   "outputs": [
    {
     "name": "stdout",
     "output_type": "stream",
     "text": [
      "+----------+--------+------+---------+--------------+\n",
      "|      date|iso_code| delta|new_cases|prev_new_cases|\n",
      "+----------+--------+------+---------+--------------+\n",
      "|2021-03-25|     RUS| 359.0|   9128.0|        8769.0|\n",
      "|2021-03-26|     RUS| -55.0|   9073.0|        9128.0|\n",
      "|2021-03-27|     RUS|-290.0|   8783.0|        9073.0|\n",
      "|2021-03-28|     RUS| 196.0|   8979.0|        8783.0|\n",
      "|2021-03-29|     RUS|-390.0|   8589.0|        8979.0|\n",
      "|2021-03-30|     RUS|-427.0|   8162.0|        8589.0|\n",
      "|2021-03-31|     RUS|  -6.0|   8156.0|        8162.0|\n",
      "+----------+--------+------+---------+--------------+\n",
      "\n"
     ]
    }
   ],
   "source": [
    "#Задание 3\n",
    "windowSpec = w.partitionBy(df.iso_code).orderBy(df['date'].asc())\n",
    "df_delta = df.select('date', 'iso_code', 'new_cases', f.lag(df.new_cases).over(windowSpec)\n",
    "                     .alias('prev_new_cases')).where((df.date <= '2021-03-31') & (df.date >= '2021-03-25') & (df.iso_code == 'RUS'))\n",
    "df_delta = df_delta.select('date', 'iso_code', (df_delta.new_cases - df_delta.prev_new_cases).alias('delta'), 'new_cases', 'prev_new_cases')\n",
    "\n",
    "df_delta.show()"
   ]
  },
  {
   "cell_type": "code",
   "execution_count": null,
   "id": "c6bfd78c-46a8-473b-b0e2-9df87f90ef97",
   "metadata": {},
   "outputs": [],
   "source": []
  }
 ],
 "metadata": {
  "kernelspec": {
   "display_name": "Python 3 (ipykernel)",
   "language": "python",
   "name": "python3"
  },
  "language_info": {
   "codemirror_mode": {
    "name": "ipython",
    "version": 3
   },
   "file_extension": ".py",
   "mimetype": "text/x-python",
   "name": "python",
   "nbconvert_exporter": "python",
   "pygments_lexer": "ipython3",
   "version": "3.9.7"
  }
 },
 "nbformat": 4,
 "nbformat_minor": 5
}
